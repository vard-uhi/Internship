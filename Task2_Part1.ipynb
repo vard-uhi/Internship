{
 "cells": [
  {
   "cell_type": "markdown",
   "metadata": {},
   "source": [
    "**Task2_Part1**\n",
    "\n",
    "*Assignment: We have .rda format file and need to read it in Python.*\n",
    "\n",
    "*Solution: Converting .rda file into Pandas DataFrame was a little challenging to me. \n",
    "There might be better solutions, however, I found using package \"pyreadr\" the fastest, which allows reading Rda files directly into python.*\n",
    "\n",
    "After converting .rda file into Pandas DataFrame I saved data to csv format for the following reasons:\n",
    "\n",
    "* My computer is not powerful, that is why I usually use Google Colab notebook.\n",
    "* Because installation of \"pyreadr\" was time consuming in Google Colab, I preferred to do the first part of the job on Jupyter Notebook and after reading .rda file I downloded data as csv in order to continue to do the rest of the task on Google Colab."
   ]
  },
  {
   "cell_type": "code",
   "execution_count": null,
   "metadata": {},
   "outputs": [],
   "source": [
    "import pyreadr\n",
    "\n",
    "# .read_r() assigns the information from the initial *.rda file to this variable\n",
    "# result is a dictionary where keys are the name of objects and the values python objects\n",
    "\n",
    "result = pyreadr.read_r('/home/varduhi/Documents/Python exercises/Internship/Intern_task/data_task_2/f_data_sm.rda')"
   ]
  },
  {
   "cell_type": "code",
   "execution_count": 2,
   "metadata": {},
   "outputs": [
    {
     "name": "stdout",
     "output_type": "stream",
     "text": [
      "odict_keys(['f_data_sm'])\n"
     ]
    }
   ],
   "source": [
    "# let's check what objects we got\n",
    "print(result.keys())"
   ]
  },
  {
   "cell_type": "code",
   "execution_count": 3,
   "metadata": {},
   "outputs": [],
   "source": [
    "# extract the pandas dataframe for object f_data_sm\n",
    "f_data_sm = result[\"f_data_sm\"]"
   ]
  },
  {
   "cell_type": "code",
   "execution_count": 4,
   "metadata": {},
   "outputs": [
    {
     "data": {
      "text/html": [
       "<div>\n",
       "<style scoped>\n",
       "    .dataframe tbody tr th:only-of-type {\n",
       "        vertical-align: middle;\n",
       "    }\n",
       "\n",
       "    .dataframe tbody tr th {\n",
       "        vertical-align: top;\n",
       "    }\n",
       "\n",
       "    .dataframe thead th {\n",
       "        text-align: right;\n",
       "    }\n",
       "</style>\n",
       "<table border=\"1\" class=\"dataframe\">\n",
       "  <thead>\n",
       "    <tr style=\"text-align: right;\">\n",
       "      <th></th>\n",
       "      <th>SEASON</th>\n",
       "      <th>COUNTRY</th>\n",
       "      <th>LEAGUE</th>\n",
       "      <th>DATE</th>\n",
       "      <th>HOMETEAM</th>\n",
       "      <th>AWAYTEAM</th>\n",
       "      <th>FTSC</th>\n",
       "      <th>FTR</th>\n",
       "      <th>FTHG</th>\n",
       "      <th>FTAG</th>\n",
       "      <th>FTTG</th>\n",
       "      <th>H</th>\n",
       "      <th>D</th>\n",
       "      <th>A</th>\n",
       "    </tr>\n",
       "  </thead>\n",
       "  <tbody>\n",
       "    <tr>\n",
       "      <th>0</th>\n",
       "      <td>1994.0</td>\n",
       "      <td>England</td>\n",
       "      <td>Premier League</td>\n",
       "      <td>1993-08-14</td>\n",
       "      <td>Arsenal</td>\n",
       "      <td>Coventry</td>\n",
       "      <td>0-3</td>\n",
       "      <td>A</td>\n",
       "      <td>0.0</td>\n",
       "      <td>3.0</td>\n",
       "      <td>3.0</td>\n",
       "      <td>NaN</td>\n",
       "      <td>NaN</td>\n",
       "      <td>NaN</td>\n",
       "    </tr>\n",
       "    <tr>\n",
       "      <th>1</th>\n",
       "      <td>1994.0</td>\n",
       "      <td>England</td>\n",
       "      <td>Premier League</td>\n",
       "      <td>1993-08-14</td>\n",
       "      <td>Aston Villa</td>\n",
       "      <td>QPR</td>\n",
       "      <td>4-1</td>\n",
       "      <td>H</td>\n",
       "      <td>4.0</td>\n",
       "      <td>1.0</td>\n",
       "      <td>5.0</td>\n",
       "      <td>NaN</td>\n",
       "      <td>NaN</td>\n",
       "      <td>NaN</td>\n",
       "    </tr>\n",
       "    <tr>\n",
       "      <th>2</th>\n",
       "      <td>1994.0</td>\n",
       "      <td>England</td>\n",
       "      <td>Premier League</td>\n",
       "      <td>1993-08-14</td>\n",
       "      <td>Chelsea</td>\n",
       "      <td>Blackburn</td>\n",
       "      <td>1-2</td>\n",
       "      <td>A</td>\n",
       "      <td>1.0</td>\n",
       "      <td>2.0</td>\n",
       "      <td>3.0</td>\n",
       "      <td>NaN</td>\n",
       "      <td>NaN</td>\n",
       "      <td>NaN</td>\n",
       "    </tr>\n",
       "    <tr>\n",
       "      <th>3</th>\n",
       "      <td>1994.0</td>\n",
       "      <td>England</td>\n",
       "      <td>Premier League</td>\n",
       "      <td>1993-08-14</td>\n",
       "      <td>Liverpool</td>\n",
       "      <td>Sheffield Weds</td>\n",
       "      <td>2-0</td>\n",
       "      <td>H</td>\n",
       "      <td>2.0</td>\n",
       "      <td>0.0</td>\n",
       "      <td>2.0</td>\n",
       "      <td>NaN</td>\n",
       "      <td>NaN</td>\n",
       "      <td>NaN</td>\n",
       "    </tr>\n",
       "    <tr>\n",
       "      <th>4</th>\n",
       "      <td>1994.0</td>\n",
       "      <td>England</td>\n",
       "      <td>Premier League</td>\n",
       "      <td>1993-08-14</td>\n",
       "      <td>Man City</td>\n",
       "      <td>Leeds</td>\n",
       "      <td>1-1</td>\n",
       "      <td>D</td>\n",
       "      <td>1.0</td>\n",
       "      <td>1.0</td>\n",
       "      <td>2.0</td>\n",
       "      <td>NaN</td>\n",
       "      <td>NaN</td>\n",
       "      <td>NaN</td>\n",
       "    </tr>\n",
       "  </tbody>\n",
       "</table>\n",
       "</div>"
      ],
      "text/plain": [
       "   SEASON  COUNTRY          LEAGUE       DATE     HOMETEAM        AWAYTEAM  \\\n",
       "0  1994.0  England  Premier League 1993-08-14      Arsenal        Coventry   \n",
       "1  1994.0  England  Premier League 1993-08-14  Aston Villa             QPR   \n",
       "2  1994.0  England  Premier League 1993-08-14      Chelsea       Blackburn   \n",
       "3  1994.0  England  Premier League 1993-08-14    Liverpool  Sheffield Weds   \n",
       "4  1994.0  England  Premier League 1993-08-14     Man City           Leeds   \n",
       "\n",
       "  FTSC FTR  FTHG  FTAG  FTTG   H   D   A  \n",
       "0  0-3   A   0.0   3.0   3.0 NaN NaN NaN  \n",
       "1  4-1   H   4.0   1.0   5.0 NaN NaN NaN  \n",
       "2  1-2   A   1.0   2.0   3.0 NaN NaN NaN  \n",
       "3  2-0   H   2.0   0.0   2.0 NaN NaN NaN  \n",
       "4  1-1   D   1.0   1.0   2.0 NaN NaN NaN  "
      ]
     },
     "execution_count": 4,
     "metadata": {},
     "output_type": "execute_result"
    }
   ],
   "source": [
    "# let's see how our data look like\n",
    "f_data_sm.head()"
   ]
  },
  {
   "cell_type": "code",
   "execution_count": 6,
   "metadata": {},
   "outputs": [],
   "source": [
    "# copying data\n",
    "df = f_data_sm.copy()"
   ]
  },
  {
   "cell_type": "code",
   "execution_count": 7,
   "metadata": {},
   "outputs": [
    {
     "name": "stdout",
     "output_type": "stream",
     "text": [
      "<class 'pandas.core.frame.DataFrame'>\n",
      "RangeIndex: 87816 entries, 0 to 87815\n",
      "Data columns (total 14 columns):\n",
      " #   Column    Non-Null Count  Dtype         \n",
      "---  ------    --------------  -----         \n",
      " 0   SEASON    87816 non-null  float64       \n",
      " 1   COUNTRY   87816 non-null  object        \n",
      " 2   LEAGUE    87816 non-null  object        \n",
      " 3   DATE      87816 non-null  datetime64[ns]\n",
      " 4   HOMETEAM  87816 non-null  object        \n",
      " 5   AWAYTEAM  87816 non-null  object        \n",
      " 6   FTSC      87816 non-null  object        \n",
      " 7   FTR       87815 non-null  object        \n",
      " 8   FTHG      87814 non-null  float64       \n",
      " 9   FTAG      87814 non-null  float64       \n",
      " 10  FTTG      87814 non-null  float64       \n",
      " 11  H         57660 non-null  float64       \n",
      " 12  D         57660 non-null  float64       \n",
      " 13  A         57660 non-null  float64       \n",
      "dtypes: datetime64[ns](1), float64(7), object(6)\n",
      "memory usage: 9.4+ MB\n"
     ]
    }
   ],
   "source": [
    "# general overview of the dataframe\n",
    "df.info()"
   ]
  },
  {
   "cell_type": "code",
   "execution_count": 8,
   "metadata": {},
   "outputs": [],
   "source": [
    "# downloading data to our local folder as csv file\n",
    "df.to_csv(r'/home/varduhi/Documents/Python exercises/Internship/Intern_task/data_task_2/data.csv', index = False, header=True)"
   ]
  }
 ],
 "metadata": {
  "kernelspec": {
   "display_name": "Python 3",
   "language": "python",
   "name": "python3"
  },
  "language_info": {
   "codemirror_mode": {
    "name": "ipython",
    "version": 3
   },
   "file_extension": ".py",
   "mimetype": "text/x-python",
   "name": "python",
   "nbconvert_exporter": "python",
   "pygments_lexer": "ipython3",
   "version": "3.7.6"
  }
 },
 "nbformat": 4,
 "nbformat_minor": 4
}
